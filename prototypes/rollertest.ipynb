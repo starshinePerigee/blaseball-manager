{
 "cells": [
  {
   "cell_type": "code",
   "execution_count": null,
   "id": "81721c5c",
   "metadata": {},
   "outputs": [],
   "source": [
    "import random\n",
    "from time import perf_counter\n",
    "import matplotlib.pyplot as plt\n",
    "%matplotlib notebook"
   ]
  },
  {
   "cell_type": "code",
   "execution_count": null,
   "id": "298e1644",
   "metadata": {},
   "outputs": [],
   "source": [
    "ITERATIONS = 1000000\n",
    "BREAKPOINTS = 100"
   ]
  },
  {
   "cell_type": "code",
   "execution_count": null,
   "id": "04b8d8f1",
   "metadata": {},
   "outputs": [],
   "source": [
    "def roll_fn(function):\n",
    "    results = [0] * BREAKPOINTS\n",
    "    start = perf_counter()\n",
    "    for x in range(0, ITERATIONS):\n",
    "        j = int(function() * BREAKPOINTS)\n",
    "        results[j] += 1\n",
    "    end = perf_counter()\n",
    "    print(f\"time elapsed: {end-start}\")\n",
    "    return results"
   ]
  },
  {
   "cell_type": "code",
   "execution_count": null,
   "id": "9ff971df",
   "metadata": {},
   "outputs": [],
   "source": [
    "def atleast(results):\n",
    "    return [sum(results[:x]) for x in range(0, BREAKPOINTS)]"
   ]
  },
  {
   "cell_type": "code",
   "execution_count": null,
   "id": "368c2059",
   "metadata": {},
   "outputs": [],
   "source": [
    "def flat():\n",
    "    return random.random()"
   ]
  },
  {
   "cell_type": "code",
   "execution_count": null,
   "id": "63196f37",
   "metadata": {},
   "outputs": [],
   "source": [
    "def curve():\n",
    "    l = [random.random() for x in range(0, 3)]\n",
    "    l.sort()\n",
    "    return l[1]"
   ]
  },
  {
   "cell_type": "code",
   "execution_count": null,
   "id": "48cc0523",
   "metadata": {},
   "outputs": [],
   "source": [
    "def semigauss():\n",
    "    return (random.random() + random.random() + random.random())/3"
   ]
  },
  {
   "cell_type": "code",
   "execution_count": null,
   "id": "083f81f0",
   "metadata": {},
   "outputs": [],
   "source": [
    "def triangle():\n",
    "    return (random.random() + random.random())/2"
   ]
  },
  {
   "cell_type": "code",
   "execution_count": null,
   "id": "4e88c2db",
   "metadata": {},
   "outputs": [],
   "source": [
    "def gauss():\n",
    "    l = random.gauss(0.5, 0.25)\n",
    "    if l < 0:\n",
    "        return 0.00001\n",
    "    elif l > 1:\n",
    "        return 0.99999\n",
    "    else:\n",
    "        return l"
   ]
  },
  {
   "cell_type": "code",
   "execution_count": null,
   "id": "c2367b16",
   "metadata": {},
   "outputs": [],
   "source": [
    "all_fns = [\n",
    "    flat, \n",
    "    curve, \n",
    "    semigauss, \n",
    "    triangle,\n",
    "    gauss\n",
    "]\n",
    "\n",
    "all_x = [x / BREAKPOINTS for x in range(0, BREAKPOINTS)]"
   ]
  },
  {
   "cell_type": "code",
   "execution_count": null,
   "id": "97c6f012",
   "metadata": {},
   "outputs": [],
   "source": [
    "results = [roll_fn(function) for function in all_fns]"
   ]
  },
  {
   "cell_type": "code",
   "execution_count": null,
   "id": "0011db08",
   "metadata": {},
   "outputs": [],
   "source": [
    "plt.figure(figsize=(10, 6))\n",
    "for result in results:\n",
    "    result_normalized = [x/ITERATIONS for x in result]\n",
    "    plt.plot(all_x, result_normalized)\n",
    "plt.show()\n",
    "\n",
    "\n",
    "plt.figure(figsize=(10, 6))\n",
    "for result in results:\n",
    "    plt.plot(all_x, atleast(result))\n",
    "plt.show()"
   ]
  },
  {
   "cell_type": "code",
   "execution_count": null,
   "id": "49ad2051",
   "metadata": {},
   "outputs": [],
   "source": []
  },
  {
   "cell_type": "markdown",
   "id": "18c81f54",
   "metadata": {},
   "source": [
    "## Comparisons\n"
   ]
  },
  {
   "cell_type": "code",
   "execution_count": null,
   "id": "a22a28ae",
   "metadata": {},
   "outputs": [],
   "source": [
    "VALUES = [0.1, 0.5, 1, 2]"
   ]
  },
  {
   "cell_type": "code",
   "execution_count": null,
   "id": "6ab209b3",
   "metadata": {},
   "outputs": [],
   "source": [
    "def run_comparisons(f_a, f_b):\n",
    "    d_fa = {}\n",
    "    d_fb = {}\n",
    "    for val in VALUES:\n",
    "        d_fa[val] = [f_a(val) for x in range(0, ITERATIONS)]\n",
    "        d_fb[val] = [f_b(val) for x in range(0, ITERATIONS)]\n",
    "    \n",
    "    results = {}\n",
    "    \n",
    "    for i in VALUES:\n",
    "        results_j = {}\n",
    "        for j in VALUES:\n",
    "            comp = [0] * (BREAKPOINTS * 2)\n",
    "            greater = 0\n",
    "            for x, y in zip(d_fa[i], d_fb[j]):\n",
    "                r = int((y - x)*BREAKPOINTS)\n",
    "                if r >= BREAKPOINTS:\n",
    "                    r = BREAKPOINTS - 1\n",
    "                if r < -BREAKPOINTS:\n",
    "                    r = -BREAKPOINTS\n",
    "                comp[r-BREAKPOINTS] += 1\n",
    "                if r > 0:\n",
    "                    greater += 1\n",
    "            print(f\"{i} vs {j}: {greater / ITERATIONS * 100:.2f}%\")\n",
    "            results_j[j] = comp\n",
    "        results[i] = results_j\n",
    "            \n",
    "    return results"
   ]
  },
  {
   "cell_type": "code",
   "execution_count": null,
   "id": "b567b1a0",
   "metadata": {},
   "outputs": [],
   "source": [
    "def plot_comparisons(results):\n",
    "    plt.figure(figsize=(10, 6))\n",
    "    labels = []\n",
    "    spread = [x for x in range(-BREAKPOINTS, BREAKPOINTS)]\n",
    "    \n",
    "    for i in VALUES:\n",
    "        for j in VALUES:\n",
    "            plt.plot(spread, results[i][j])\n",
    "            labels += [f\"{i} vs {j}\"]\n",
    "    \n",
    "    plt.legend(labels,bbox_to_anchor=(.5,1.1),loc='upper center',borderaxespad=0.,ncol=len(VALUES))\n",
    "    plt.show()"
   ]
  },
  {
   "cell_type": "code",
   "execution_count": null,
   "id": "c9cce282",
   "metadata": {},
   "outputs": [],
   "source": [
    "def function_a(val):\n",
    "    return random.gauss(val, 0.25)"
   ]
  },
  {
   "cell_type": "code",
   "execution_count": null,
   "id": "6c77ba9e",
   "metadata": {},
   "outputs": [],
   "source": [
    "def function_b(val):\n",
    "    return val"
   ]
  },
  {
   "cell_type": "code",
   "execution_count": null,
   "id": "4e9b4ceb",
   "metadata": {},
   "outputs": [],
   "source": [
    "plot_comparisons(run_comparisons(function_a, function_b))"
   ]
  },
  {
   "cell_type": "code",
   "execution_count": null,
   "id": "9e33beea",
   "metadata": {},
   "outputs": [],
   "source": [
    "plot_comparisons(run_comparisons(function_a, function_a))"
   ]
  },
  {
   "cell_type": "code",
   "execution_count": null,
   "id": "37e85c16",
   "metadata": {},
   "outputs": [],
   "source": [
    "def function_c(val):\n",
    "    return random.gauss(val, 0.5)"
   ]
  },
  {
   "cell_type": "code",
   "execution_count": null,
   "id": "9ca8b0fb",
   "metadata": {},
   "outputs": [],
   "source": [
    "plot_comparisons(run_comparisons(function_c, function_b))"
   ]
  },
  {
   "cell_type": "code",
   "execution_count": null,
   "id": "aa9fdd8c",
   "metadata": {},
   "outputs": [],
   "source": [
    "# congrats u hav just proofed https://en.wikipedia.org/wiki/Sum_of_normally_distributed_random_variables ;~;"
   ]
  }
 ],
 "metadata": {
  "kernelspec": {
   "display_name": "Python 3 (ipykernel)",
   "language": "python",
   "name": "python3"
  },
  "language_info": {
   "codemirror_mode": {
    "name": "ipython",
    "version": 3
   },
   "file_extension": ".py",
   "mimetype": "text/x-python",
   "name": "python",
   "nbconvert_exporter": "python",
   "pygments_lexer": "ipython3",
   "version": "3.8.5"
  }
 },
 "nbformat": 4,
 "nbformat_minor": 5
}
